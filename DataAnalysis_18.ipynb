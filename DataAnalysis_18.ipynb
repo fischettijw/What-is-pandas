{
 "cells": [
  {
   "cell_type": "markdown",
   "metadata": {},
   "source": [
    "### [What do I need to know about the pandas index? (Part 2)) 18](https://youtu.be/15q-is8P_H4?list=PL5-da3qGB5ICCsgW1MxlZ0Hq8LL5U3u9y)\n",
    "\n",
    "[Pandas Documentation](https://pandas.pydata.org/docs/)\n",
    "\n",
    "[GITHUB for Pandas Series (38 Videos)](https://github.com/justmarkham/pandas-videos)\n",
    "\n",
    "[Python Documentation](https://docs.python.org/3/)\n",
    "\n",
    "[Data School](https://www.youtube.com/dataschool)\n",
    "\n",
    "[VsCode IntelliSense](https://code.visualstudio.com/docs/editor/intellisense#_types-of-completions)"
   ]
  },
  {
   "cell_type": "code",
   "execution_count": null,
   "metadata": {},
   "outputs": [],
   "source": [
    "import pandas as pd"
   ]
  },
  {
   "cell_type": "code",
   "execution_count": null,
   "metadata": {},
   "outputs": [],
   "source": [
    "movies = pd.read_csv('http://bit.ly/imdbratings')\n",
    "movies.head()"
   ]
  }
 ],
 "metadata": {
  "kernelspec": {
   "display_name": "Python 3",
   "language": "python",
   "name": "python3"
  },
  "language_info": {
   "codemirror_mode": {
    "name": "ipython",
    "version": 3
   },
   "file_extension": ".py",
   "mimetype": "text/x-python",
   "name": "python",
   "nbconvert_exporter": "python",
   "pygments_lexer": "ipython3",
   "version": "3.11.4"
  }
 },
 "nbformat": 4,
 "nbformat_minor": 2
}
