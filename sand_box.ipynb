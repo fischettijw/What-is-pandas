{
 "cells": [
  {
   "cell_type": "code",
   "execution_count": 66,
   "metadata": {},
   "outputs": [],
   "source": [
    "import pandas as pd\n",
    "import random as rnd"
   ]
  },
  {
   "cell_type": "code",
   "execution_count": 67,
   "metadata": {},
   "outputs": [
    {
     "data": {
      "text/html": [
       "<div>\n",
       "<style scoped>\n",
       "    .dataframe tbody tr th:only-of-type {\n",
       "        vertical-align: middle;\n",
       "    }\n",
       "\n",
       "    .dataframe tbody tr th {\n",
       "        vertical-align: top;\n",
       "    }\n",
       "\n",
       "    .dataframe thead th {\n",
       "        text-align: right;\n",
       "    }\n",
       "</style>\n",
       "<table border=\"1\" class=\"dataframe\">\n",
       "  <thead>\n",
       "    <tr style=\"text-align: right;\">\n",
       "      <th></th>\n",
       "      <th>C_0</th>\n",
       "      <th>C_1</th>\n",
       "      <th>C_2</th>\n",
       "      <th>C_3</th>\n",
       "      <th>C_4</th>\n",
       "      <th>C_5</th>\n",
       "    </tr>\n",
       "  </thead>\n",
       "  <tbody>\n",
       "    <tr>\n",
       "      <th>0</th>\n",
       "      <td>False</td>\n",
       "      <td>True</td>\n",
       "      <td>False</td>\n",
       "      <td>True</td>\n",
       "      <td>False</td>\n",
       "      <td>NaN</td>\n",
       "    </tr>\n",
       "    <tr>\n",
       "      <th>1</th>\n",
       "      <td>True</td>\n",
       "      <td>True</td>\n",
       "      <td>False</td>\n",
       "      <td>True</td>\n",
       "      <td>True</td>\n",
       "      <td>NaN</td>\n",
       "    </tr>\n",
       "    <tr>\n",
       "      <th>2</th>\n",
       "      <td>False</td>\n",
       "      <td>False</td>\n",
       "      <td>False</td>\n",
       "      <td>True</td>\n",
       "      <td>False</td>\n",
       "      <td>NaN</td>\n",
       "    </tr>\n",
       "    <tr>\n",
       "      <th>3</th>\n",
       "      <td>True</td>\n",
       "      <td>True</td>\n",
       "      <td>True</td>\n",
       "      <td>True</td>\n",
       "      <td>False</td>\n",
       "      <td>NaN</td>\n",
       "    </tr>\n",
       "  </tbody>\n",
       "</table>\n",
       "</div>"
      ],
      "text/plain": [
       "     C_0    C_1    C_2   C_3    C_4  C_5\n",
       "0  False   True  False  True  False  NaN\n",
       "1   True   True  False  True   True  NaN\n",
       "2  False  False  False  True  False  NaN\n",
       "3   True   True   True  True  False  NaN"
      ]
     },
     "execution_count": 67,
     "metadata": {},
     "output_type": "execute_result"
    }
   ],
   "source": [
    "df = pd.read_csv('sand_box.csv')\n",
    "df.head()"
   ]
  },
  {
   "cell_type": "code",
   "execution_count": 68,
   "metadata": {},
   "outputs": [
    {
     "data": {
      "text/plain": [
       "0     True\n",
       "1     True\n",
       "2    False\n",
       "3     True\n",
       "Name: C_1, dtype: bool"
      ]
     },
     "execution_count": 68,
     "metadata": {},
     "output_type": "execute_result"
    }
   ],
   "source": [
    "df.C_1.head()"
   ]
  },
  {
   "cell_type": "code",
   "execution_count": 69,
   "metadata": {},
   "outputs": [
    {
     "data": {
      "text/html": [
       "<div>\n",
       "<style scoped>\n",
       "    .dataframe tbody tr th:only-of-type {\n",
       "        vertical-align: middle;\n",
       "    }\n",
       "\n",
       "    .dataframe tbody tr th {\n",
       "        vertical-align: top;\n",
       "    }\n",
       "\n",
       "    .dataframe thead th {\n",
       "        text-align: right;\n",
       "    }\n",
       "</style>\n",
       "<table border=\"1\" class=\"dataframe\">\n",
       "  <thead>\n",
       "    <tr style=\"text-align: right;\">\n",
       "      <th></th>\n",
       "      <th>0</th>\n",
       "      <th>1</th>\n",
       "      <th>2</th>\n",
       "    </tr>\n",
       "  </thead>\n",
       "  <tbody>\n",
       "    <tr>\n",
       "      <th>0</th>\n",
       "      <td>None</td>\n",
       "      <td>None</td>\n",
       "      <td>None</td>\n",
       "    </tr>\n",
       "    <tr>\n",
       "      <th>1</th>\n",
       "      <td>None</td>\n",
       "      <td>None</td>\n",
       "      <td>None</td>\n",
       "    </tr>\n",
       "    <tr>\n",
       "      <th>2</th>\n",
       "      <td>None</td>\n",
       "      <td>None</td>\n",
       "      <td>None</td>\n",
       "    </tr>\n",
       "    <tr>\n",
       "      <th>3</th>\n",
       "      <td>None</td>\n",
       "      <td>None</td>\n",
       "      <td>None</td>\n",
       "    </tr>\n",
       "  </tbody>\n",
       "</table>\n",
       "</div>"
      ],
      "text/plain": [
       "      0     1     2\n",
       "0  None  None  None\n",
       "1  None  None  None\n",
       "2  None  None  None\n",
       "3  None  None  None"
      ]
     },
     "execution_count": 69,
     "metadata": {},
     "output_type": "execute_result"
    }
   ],
   "source": [
    "row, col = 4, 3\n",
    "\n",
    "pd.DataFrame.from_records([[None]*col]*row).head()"
   ]
  },
  {
   "cell_type": "code",
   "execution_count": 70,
   "metadata": {},
   "outputs": [
    {
     "name": "stdout",
     "output_type": "stream",
     "text": [
      "Given Dataframe :\n",
      "         Name  Age    Stream  Percentage\n",
      "0      Ankit   21      Math          88\n",
      "1       Amit   19  Commerce          92\n",
      "2  Aishwarya   20   Science          95\n",
      "3   Priyanka   18      Math          70\n",
      "4      Priya   17      Math          65\n",
      "5    Shaurya   21   Science          78\n",
      "\n",
      "Result dataframe :\n",
      "         Name  Age   Stream  Percentage\n",
      "2  Aishwarya   20  Science          95\n"
     ]
    }
   ],
   "source": [
    "# importing pandas\n",
    "import pandas as pd\n",
    "\n",
    "record = {'Name': ['Ankit', 'Amit', 'Aishwarya', 'Priyanka', 'Priya', 'Shaurya' ],\n",
    "          'Age': [21, 19, 20, 18, 17, 21],\n",
    "          'Stream': ['Math', 'Commerce', 'Science', 'Math', 'Math', 'Science'],\n",
    "          'Percentage': [88, 92, 95, 70, 65, 78]}\n",
    "\n",
    "# create a dataframe\n",
    "dataframe = pd.DataFrame(record, columns = ['Name', 'Age', 'Stream', 'Percentage'])\n",
    "\n",
    "print(\"Given Dataframe :\\n\", dataframe) \n",
    "\n",
    "# selecting rows based on condition\n",
    "rslt_df = dataframe[(dataframe['Percentage'] > 88) & (dataframe['Stream'] == 'Science')]\n",
    "\n",
    "print('\\nResult dataframe :\\n', rslt_df)"
   ]
  },
  {
   "cell_type": "code",
   "execution_count": 71,
   "metadata": {},
   "outputs": [
    {
     "name": "stdout",
     "output_type": "stream",
     "text": [
      "       Name    Subject  Marks\n",
      "0       Raj      Maths     80\n",
      "1       Raj    Physics     90\n",
      "2       Raj  Chemistry     75\n",
      "3   Aravind      Maths     60\n",
      "4   Aravind    Physics     40\n",
      "5   Aravind  Chemistry     60\n",
      "6      John      Maths     80\n",
      "7      John    Physics     55\n",
      "8      John  Chemistry    100\n",
      "9     Arjun      Maths     90\n",
      "10    Arjun    Physics     75\n",
      "11    Arjun  Chemistry     70\n"
     ]
    }
   ],
   "source": [
    "\n",
    "\n",
    "# Create a dictionary with student details \n",
    "student_details = {'Name':['Raj', 'Raj', 'Raj', 'Aravind', 'Aravind', 'Aravind', \n",
    "                             'John', 'John', 'John', 'Arjun', 'Arjun', 'Arjun'], \n",
    "                   'Subject':['Maths', 'Physics', 'Chemistry', 'Maths', 'Physics', \n",
    "                             'Chemistry', 'Maths', 'Physics', 'Chemistry', 'Maths', \n",
    "                                                           'Physics', 'Chemistry'], \n",
    "                   'Marks':[80, 90, 75, 60, 40, 60, 80, 55, 100, 90, 75, 70] \n",
    "               } \n",
    "  \n",
    "# Convert dictionary to a DataFrame \n",
    "df = pd.DataFrame(student_details) \n",
    "print(df) "
   ]
  },
  {
   "cell_type": "code",
   "execution_count": 72,
   "metadata": {},
   "outputs": [
    {
     "name": "stdout",
     "output_type": "stream",
     "text": [
      "              Name    Subject  Marks\n",
      "Mark_Rank                           \n",
      "4.5            Raj      Maths     80\n",
      "2.5            Raj    Physics     90\n",
      "6.5            Raj  Chemistry     75\n",
      "9.5        Aravind      Maths     60\n",
      "12.0       Aravind    Physics     40\n",
      "9.5        Aravind  Chemistry     60\n",
      "4.5           John      Maths     80\n",
      "11.0          John    Physics     55\n",
      "1.0           John  Chemistry    100\n",
      "2.5          Arjun      Maths     90\n",
      "6.5          Arjun    Physics     75\n",
      "8.0          Arjun  Chemistry     70\n"
     ]
    }
   ],
   "source": [
    "# Create a new column with Marks  \n",
    "# ranked in descending order \n",
    "df['Mark_Rank'] = df['Marks'].rank(ascending = 0) \n",
    "  \n",
    "# Set index to newly created column  \n",
    "df = df.set_index('Mark_Rank') \n",
    "print(df) "
   ]
  },
  {
   "cell_type": "code",
   "execution_count": 73,
   "metadata": {},
   "outputs": [
    {
     "name": "stdout",
     "output_type": "stream",
     "text": [
      "              Name    Subject  Marks\n",
      "Mark_Rank                           \n",
      "1.0           John  Chemistry    100\n",
      "2.5            Raj    Physics     90\n",
      "2.5          Arjun      Maths     90\n",
      "4.5            Raj      Maths     80\n",
      "4.5           John      Maths     80\n",
      "6.5            Raj  Chemistry     75\n",
      "6.5          Arjun    Physics     75\n",
      "8.0          Arjun  Chemistry     70\n",
      "9.5        Aravind      Maths     60\n",
      "9.5        Aravind  Chemistry     60\n",
      "11.0          John    Physics     55\n",
      "12.0       Aravind    Physics     40\n"
     ]
    }
   ],
   "source": [
    "\n",
    "# Sort the DataFrame based on the index  \n",
    "df = df.sort_index() \n",
    "  \n",
    "print(df) "
   ]
  }
 ],
 "metadata": {
  "kernelspec": {
   "display_name": "Python 3",
   "language": "python",
   "name": "python3"
  },
  "language_info": {
   "codemirror_mode": {
    "name": "ipython",
    "version": 3
   },
   "file_extension": ".py",
   "mimetype": "text/x-python",
   "name": "python",
   "nbconvert_exporter": "python",
   "pygments_lexer": "ipython3",
   "version": "3.11.4"
  }
 },
 "nbformat": 4,
 "nbformat_minor": 2
}
