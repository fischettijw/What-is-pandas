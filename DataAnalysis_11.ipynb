{
 "cells": [
  {
   "cell_type": "markdown",
   "metadata": {},
   "source": [
    "### [How do I use the \"axis\" parameter in pandas? 11](https://youtu.be/PtO3t6ynH-8?list=PL5-da3qGB5ICCsgW1MxlZ0Hq8LL5U3u9y)\n",
    "\n",
    "[Pandas Documentation](https://pandas.pydata.org/docs/)\n",
    "\n",
    "[GITHUB for Pandas Series (38 Videos)](https://github.com/justmarkham/pandas-videos)\n",
    "\n",
    "[Python Documentation](https://docs.python.org/3/)\n",
    "\n",
    "[Data School](https://www.youtube.com/dataschool)\n",
    "\n",
    "[VsCode IntelliSense](https://code.visualstudio.com/docs/editor/intellisense#_types-of-completions)"
   ]
  },
  {
   "cell_type": "code",
   "execution_count": null,
   "metadata": {},
   "outputs": [],
   "source": [
    "import pandas as pd"
   ]
  },
  {
   "cell_type": "code",
   "execution_count": null,
   "metadata": {},
   "outputs": [],
   "source": [
    "drinks = pd.read_csv('http://bit.ly/drinksbycountry')\n",
    "drinks.head()"
   ]
  },
  {
   "cell_type": "code",
   "execution_count": null,
   "metadata": {},
   "outputs": [],
   "source": [
    "drinks.drop('continent', axis = 1).head()       # axis = 1 refers to columns"
   ]
  },
  {
   "cell_type": "code",
   "execution_count": null,
   "metadata": {},
   "outputs": [],
   "source": [
    "drinks.drop(2, axis = 0).head()       # axis = 0 refers to rows"
   ]
  },
  {
   "cell_type": "code",
   "execution_count": null,
   "metadata": {},
   "outputs": [],
   "source": [
    "drinks['country'] == 'Algeria'"
   ]
  },
  {
   "cell_type": "code",
   "execution_count": null,
   "metadata": {},
   "outputs": [],
   "source": [
    "drinks[drinks['country'] == 'Algeria'].index"
   ]
  },
  {
   "cell_type": "code",
   "execution_count": null,
   "metadata": {},
   "outputs": [],
   "source": [
    "# https://saturncloud.io/blog/how-to-delete-dataframe-rows-in-pandas-based-on-column-value/#:~:text=To%20delete%20rows%20from%20a%20DataFrame%20based%20on%20a%20specific,of%20row%20labels%20to%20delete.\n",
    "drinks.drop(drinks[drinks['country'] == 'Algeria'].index)"
   ]
  },
  {
   "cell_type": "code",
   "execution_count": 32,
   "metadata": {},
   "outputs": [
    {
     "data": {
      "text/plain": [
       "beer_servings                   106.160622\n",
       "spirit_servings                  80.994819\n",
       "wine_servings                    49.450777\n",
       "total_litres_of_pure_alcohol      4.717098\n",
       "dtype: float64"
      ]
     },
     "execution_count": 32,
     "metadata": {},
     "output_type": "execute_result"
    }
   ],
   "source": [
    "drinks.mean(numeric_only=True)    # drinks.mean(numeric_only=True, axis = 0)"
   ]
  }
 ],
 "metadata": {
  "kernelspec": {
   "display_name": "Python 3",
   "language": "python",
   "name": "python3"
  },
  "language_info": {
   "codemirror_mode": {
    "name": "ipython",
    "version": 3
   },
   "file_extension": ".py",
   "mimetype": "text/x-python",
   "name": "python",
   "nbconvert_exporter": "python",
   "pygments_lexer": "ipython3",
   "version": "3.11.4"
  }
 },
 "nbformat": 4,
 "nbformat_minor": 2
}
